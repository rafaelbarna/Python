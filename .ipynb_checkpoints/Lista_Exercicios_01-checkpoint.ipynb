{
 "cells": [
  {
   "cell_type": "markdown",
   "id": "4e63e9ca",
   "metadata": {},
   "source": [
    "Crie um programa para que apresente seu nome, seu celular e sua cidade"
   ]
  },
  {
   "cell_type": "code",
   "execution_count": 3,
   "id": "e7cd7793",
   "metadata": {},
   "outputs": [
    {
     "name": "stdout",
     "output_type": "stream",
     "text": [
      "Nome:  rafael \n",
      "celular:  5511980466510 \n",
      "cidade:  São Paulo\n"
     ]
    }
   ],
   "source": [
    "nome = \"Rafael\"\n",
    "celular = \"55 11 9 8046 6510\"\n",
    "cidade = \"São Paulo\"\n",
    "\n",
    "print(\"Nome: \", nome, \"\\ncelular: \",celular, \"\\ncidade: \", cidade)"
   ]
  },
  {
   "cell_type": "markdown",
   "id": "2216ed2d",
   "metadata": {},
   "source": [
    "Crie um programa para que apresente sua idade, altura e peso"
   ]
  },
  {
   "cell_type": "code",
   "execution_count": 4,
   "id": "496f56d1",
   "metadata": {},
   "outputs": [
    {
     "name": "stdout",
     "output_type": "stream",
     "text": [
      "Idade:  31 \n",
      "Altura:  1.93 \n",
      "Peso:  81.1\n"
     ]
    }
   ],
   "source": [
    "idade = \"31\"\n",
    "altura = 1.93\n",
    "peso = 81.1\n",
    "\n",
    "print(\"Idade: \", idade, \"\\nAltura: \", altura, \"\\nPeso: \", peso)"
   ]
  },
  {
   "cell_type": "markdown",
   "id": "21ba5d52",
   "metadata": {},
   "source": [
    "Crie um programa para que apresente seu salário e vale-refeição"
   ]
  },
  {
   "cell_type": "code",
   "execution_count": null,
   "id": "3e3e8444",
   "metadata": {},
   "outputs": [],
   "source": []
  }
 ],
 "metadata": {
  "kernelspec": {
   "display_name": "Python 3 (ipykernel)",
   "language": "python",
   "name": "python3"
  },
  "language_info": {
   "codemirror_mode": {
    "name": "ipython",
    "version": 3
   },
   "file_extension": ".py",
   "mimetype": "text/x-python",
   "name": "python",
   "nbconvert_exporter": "python",
   "pygments_lexer": "ipython3",
   "version": "3.9.7"
  }
 },
 "nbformat": 4,
 "nbformat_minor": 5
}
