{
 "cells": [
  {
   "cell_type": "markdown",
   "id": "d651fe88",
   "metadata": {},
   "source": [
    "### Crie um algoritmo que receba 4 notas e faça a média dentre elas"
   ]
  },
  {
   "cell_type": "code",
   "execution_count": 19,
   "id": "7b199408",
   "metadata": {},
   "outputs": [],
   "source": [
    "n1 = 8\n",
    "n2 = 3\n",
    "n3 = 5\n",
    "n4 = 9\n",
    "\n",
    "media = (n1 + n2 + n3 + n4) / 4"
   ]
  },
  {
   "cell_type": "code",
   "execution_count": 20,
   "id": "8fc38edc",
   "metadata": {},
   "outputs": [
    {
     "name": "stdout",
     "output_type": "stream",
     "text": [
      "6.25\n"
     ]
    }
   ],
   "source": [
    "print(media)"
   ]
  },
  {
   "cell_type": "code",
   "execution_count": 21,
   "id": "073f56b3",
   "metadata": {},
   "outputs": [
    {
     "name": "stdout",
     "output_type": "stream",
     "text": [
      "Você passou!\n"
     ]
    }
   ],
   "source": [
    "if media >= 6:\n",
    "    print(\"Você passou!\")\n",
    "    \n",
    "else:\n",
    "    print(\"Precisa estudar mais...\")\n"
   ]
  },
  {
   "cell_type": "code",
   "execution_count": 8,
   "id": "1229673b",
   "metadata": {},
   "outputs": [
    {
     "name": "stdout",
     "output_type": "stream",
     "text": [
      "Digite a primeira nota 5.5\n",
      "Digite a segunda nota 5.5\n",
      "Digite a terceira nota 5.5\n",
      "Digite a quarta nota 5.5\n"
     ]
    }
   ],
   "source": [
    "notaUm = float(input(\"Digite a primeira nota \"))\n",
    "notaDois = float(input(\"Digite a segunda nota \"))\n",
    "notaTres = float(input(\"Digite a terceira nota \"))\n",
    "notaQuatro = float(input(\"Digite a quarta nota \"))\n",
    "\n",
    "resultadoFinal = (notaUm + notaDois + notaTres + notaQuatro) / 4\n",
    "\n",
    "print (\"A nota final do aluno é: {.:2f}\".format(resultadoFinal))"
   ]
  },
  {
   "cell_type": "code",
   "execution_count": null,
   "id": "97d80a8b",
   "metadata": {},
   "outputs": [],
   "source": []
  }
 ],
 "metadata": {
  "kernelspec": {
   "display_name": "Python 3 (ipykernel)",
   "language": "python",
   "name": "python3"
  },
  "language_info": {
   "codemirror_mode": {
    "name": "ipython",
    "version": 3
   },
   "file_extension": ".py",
   "mimetype": "text/x-python",
   "name": "python",
   "nbconvert_exporter": "python",
   "pygments_lexer": "ipython3",
   "version": "3.9.7"
  }
 },
 "nbformat": 4,
 "nbformat_minor": 5
}
