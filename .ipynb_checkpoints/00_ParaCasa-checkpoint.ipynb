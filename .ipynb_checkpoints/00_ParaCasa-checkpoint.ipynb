{
 "cells": [
  {
   "cell_type": "markdown",
   "id": "4ccded82",
   "metadata": {},
   "source": [
    "### 1 - Faça um algoritmo que faça a soma de 4 números e apresente o resultado"
   ]
  },
  {
   "cell_type": "code",
   "execution_count": null,
   "id": "135bebb9",
   "metadata": {},
   "outputs": [],
   "source": []
  },
  {
   "cell_type": "markdown",
   "id": "18552a01",
   "metadata": {},
   "source": [
    "### 2 - Faça um algoritmo que recebe 3 valores e faça a multiplicação deles e apresente o resultado"
   ]
  },
  {
   "cell_type": "code",
   "execution_count": null,
   "id": "bf226dcd",
   "metadata": {},
   "outputs": [],
   "source": []
  },
  {
   "cell_type": "markdown",
   "id": "fa7e9620",
   "metadata": {},
   "source": [
    "### 3 - Dados os valores, a = 3, b = 5, c = 6, faça a soma, subtração, divisão e multiplicação entre eles. "
   ]
  },
  {
   "cell_type": "code",
   "execution_count": null,
   "id": "cc5d902f",
   "metadata": {},
   "outputs": [],
   "source": []
  },
  {
   "cell_type": "markdown",
   "id": "8c873d50",
   "metadata": {},
   "source": [
    "### 4 - Imagine que o sistema da empresa aonde trabalha armazene as seguintes informações: nome, idade, data de nascimento, sexo, telefone residencial, telefone celular, email, endereço, cep, estado, cidade e bairro, classifique as variáveis entre seus respectivos tipos!"
   ]
  },
  {
   "cell_type": "code",
   "execution_count": null,
   "id": "99a84b70",
   "metadata": {},
   "outputs": [],
   "source": []
  },
  {
   "cell_type": "markdown",
   "id": "07a0791e",
   "metadata": {},
   "source": [
    "### 5 - Pensando nas boas práticas já conversadas nas aulas, o que nunca devemos fazer ao declarar uma variável? "
   ]
  },
  {
   "cell_type": "code",
   "execution_count": null,
   "id": "7b2b89fd",
   "metadata": {},
   "outputs": [],
   "source": []
  },
  {
   "cell_type": "markdown",
   "id": "4c0ecf81",
   "metadata": {},
   "source": [
    "### 6 - No Python, como identificamos um bloco de comandos? Pelo uso da virgula? Uso de chaves? Ou Identação de código?"
   ]
  },
  {
   "cell_type": "code",
   "execution_count": null,
   "id": "c37ecd68",
   "metadata": {},
   "outputs": [],
   "source": []
  }
 ],
 "metadata": {
  "kernelspec": {
   "display_name": "Python 3",
   "language": "python",
   "name": "python3"
  },
  "language_info": {
   "codemirror_mode": {
    "name": "ipython",
    "version": 3
   },
   "file_extension": ".py",
   "mimetype": "text/x-python",
   "name": "python",
   "nbconvert_exporter": "python",
   "pygments_lexer": "ipython3",
   "version": "3.8.8"
  }
 },
 "nbformat": 4,
 "nbformat_minor": 5
}
