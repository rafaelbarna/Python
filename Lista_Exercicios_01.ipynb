{
 "cells": [
  {
   "cell_type": "markdown",
   "id": "daaed3a6",
   "metadata": {},
   "source": [
    "# Exercicio 01\n",
    "### Crie um programa para que apresente seu nome, seu celular e sua cidade"
   ]
  },
  {
   "cell_type": "code",
   "execution_count": 10,
   "id": "e8a22c15",
   "metadata": {},
   "outputs": [
    {
     "name": "stdout",
     "output_type": "stream",
     "text": [
      "Qual seu nome? Rafael\n",
      "Qual seu celular? 11 0000 0000\n",
      "Qual sua cidade? São Paulo\n",
      "\n",
      "Nome:  Rafael \n",
      "celular:  11 0000 0000 \n",
      "cidade:  São Paulo\n"
     ]
    }
   ],
   "source": [
    "nome\n",
    "celular\n",
    "cidade\n",
    "\n",
    "nome = input(\"Qual seu nome? \")\n",
    "celular = input(\"Qual seu celular? \")\n",
    "cidade = input(\"Qual sua cidade? \")\n",
    "\n",
    "print(\"\\nNome: \", nome, \"\\ncelular: \",celular, \"\\ncidade: \", cidade)"
   ]
  },
  {
   "cell_type": "markdown",
   "id": "fe162ce8",
   "metadata": {},
   "source": [
    "# Exercicio 02\n",
    "### Crie um programa para que apresente sua idade, altura e peso"
   ]
  },
  {
   "cell_type": "code",
   "execution_count": 4,
   "id": "1e763b06",
   "metadata": {},
   "outputs": [
    {
     "name": "stdout",
     "output_type": "stream",
     "text": [
      "Idade:  31 \n",
      "Altura:  1.93 \n",
      "Peso:  81.1\n"
     ]
    }
   ],
   "source": [
    "idade\n",
    "altura\n",
    "peso\n",
    "\n",
    "idade = input(\"Qual sua idade? \")\n",
    "altura = input(\"Qual sua altura? \")\n",
    "peso = input(\"Qual seu peso? \")\n",
    "\n",
    "print(\"\\nIdade: \", idade, \"\\nAltura: \", altura, \"\\nPeso: \", peso)"
   ]
  },
  {
   "cell_type": "markdown",
   "id": "54b70863",
   "metadata": {},
   "source": [
    "# Exercicio 03\n",
    "### Crie um programa para que apresente seu salário e vale-refeição"
   ]
  },
  {
   "cell_type": "code",
   "execution_count": 13,
   "id": "59a606f8",
   "metadata": {},
   "outputs": [
    {
     "name": "stdout",
     "output_type": "stream",
     "text": [
      "Qual seu salário? 2000\n",
      "Qual o valor do seu VR? 300\n",
      "\n",
      "Salário:  2000 \n",
      "Vale Refeição:  300\n"
     ]
    }
   ],
   "source": [
    "salario\n",
    "vale_refeicao\n",
    "\n",
    "salario = input(\"Qual seu salário? \")\n",
    "vale_refeicao = input(\"Qual o valor do seu VR? \")\n",
    "\n",
    "print(\"\\nSalário: \", salario, \"\\nVale Refeição: \", vale_refeicao)"
   ]
  },
  {
   "cell_type": "markdown",
   "id": "3e22b4a1",
   "metadata": {},
   "source": [
    "# Exercicio 04\n",
    "#### Crie um programa declarando uma variável do tipo String chamada nome, outra chamada celular e outra chamada cidade, atribua um valor para todas as variáveis e exiba o resultado no console"
   ]
  },
  {
   "cell_type": "code",
   "execution_count": 15,
   "id": "e1c97ef7",
   "metadata": {},
   "outputs": [
    {
     "name": "stdout",
     "output_type": "stream",
     "text": [
      "Qual seu nome? rafael\n",
      "Qual seu telefone? 11 0000 0000\n",
      "Qual sua cidade? sp\n",
      "\n",
      "Nome:  rafael \n",
      "Contato:  11 0000 0000 \n",
      "Cidade:  sp\n"
     ]
    }
   ],
   "source": [
    "nome\n",
    "celular\n",
    "cidade\n",
    "\n",
    "nome = input(\"Qual seu nome? \")\n",
    "celular = input(\"Qual seu telefone? \")\n",
    "cidade = input(\"Qual sua cidade? \")\n",
    "\n",
    "print(\"\\nNome: \", nome,\n",
    "      \"\\nContato: \", celular,\n",
    "      \"\\nCidade: \", cidade\n",
    "     )"
   ]
  },
  {
   "cell_type": "markdown",
   "id": "3f2fec35",
   "metadata": {},
   "source": [
    "# Exercicio 05\n",
    "#### Crie um programa declarando uma variável do tipo int chamada idade, outra chamada altura e outra peso, ambas do tipo double, atribua um valor para todas as variáveis e exiba o resultado no console"
   ]
  },
  {
   "cell_type": "code",
   "execution_count": 37,
   "id": "f1bf16d6",
   "metadata": {},
   "outputs": [
    {
     "name": "stdout",
     "output_type": "stream",
     "text": [
      "QUal sua idade? 12\n",
      "Qual sua altura? 14\n",
      "Qual seu peso? 18\n",
      "\n",
      "Idade:  12 \n",
      "Altura:  14 \n",
      "Peso:  18\n"
     ]
    }
   ],
   "source": [
    "idade = int\n",
    "altura = float\n",
    "peso = float\n",
    "\n",
    "idade = input(\"QUal sua idade? \")\n",
    "altura = input(\"Qual sua altura? \")\n",
    "peso = input(\"Qual seu peso? \")\n",
    "\n",
    "print(\"\\nIdade: \", idade, \"\\nAltura: \", altura, \"\\nPeso: \", peso)"
   ]
  },
  {
   "cell_type": "markdown",
   "id": "582fe0fc",
   "metadata": {},
   "source": [
    "# Exercicio 06\n",
    "### Crie um programa para que receba do usuário o nome, celular e cidade e exiba no console"
   ]
  },
  {
   "cell_type": "code",
   "execution_count": null,
   "id": "ad80756f",
   "metadata": {},
   "outputs": [],
   "source": [
    "nome\n",
    "celular\n",
    "cidade\n",
    "\n",
    "nome = input(\"Qual seu nome? \")\n",
    "celular = input(\"Qual seu telefone? \")\n",
    "cidade = input(\"Qual sua cidade? \")\n",
    "\n",
    "print(\"\\nNome: \", nome,\n",
    "      \"\\nContato: \", celular,\n",
    "      \"\\nCidade: \", cidade\n",
    "     )"
   ]
  },
  {
   "cell_type": "markdown",
   "id": "a6928778",
   "metadata": {},
   "source": [
    "# Exercicio 07\n",
    "### Crie um programa para que receba do usuário o idade, altura e peso e exiba no console;"
   ]
  },
  {
   "cell_type": "code",
   "execution_count": null,
   "id": "b024c687",
   "metadata": {},
   "outputs": [],
   "source": [
    "idade = int\n",
    "altura = float\n",
    "peso = float\n",
    "\n",
    "idade = input(\"QUal sua idade? \")\n",
    "altura = input(\"Qual sua altura? \")\n",
    "peso = input(\"Qual seu peso? \")\n",
    "\n",
    "print(\"\\nIdade: \", idade, \"\\nAltura: \", altura, \"\\nPeso: \", peso)"
   ]
  },
  {
   "cell_type": "markdown",
   "id": "82db3666",
   "metadata": {},
   "source": [
    "# Exercicio 08\n",
    "### Crie um programa para que receba do usuário o salário e vale-refeição e exiba no console"
   ]
  },
  {
   "cell_type": "code",
   "execution_count": null,
   "id": "c0418458",
   "metadata": {},
   "outputs": [],
   "source": [
    "salario\n",
    "vale_refeicao\n",
    "\n",
    "salario = input(\"Qual seu salário? \")\n",
    "vale_refeicao = input(\"Qual o valor do seu VR? \")\n",
    "\n",
    "print(\"\\nSalário: \", salario, \"\\nVale Refeição: \", vale_refeicao)"
   ]
  },
  {
   "cell_type": "markdown",
   "id": "abaa6071",
   "metadata": {},
   "source": [
    "# Exercicio 09\n",
    "### Crie um programa que receba dois valores do usuário e exiba a o resultado de sua soma"
   ]
  },
  {
   "cell_type": "code",
   "execution_count": 43,
   "id": "aba89c4e",
   "metadata": {},
   "outputs": [
    {
     "name": "stdout",
     "output_type": "stream",
     "text": [
      "Digite o valor de A: 1\n",
      "Digite o valor de B: 1\n",
      "O valor da soma de A e B é:  2\n"
     ]
    }
   ],
   "source": [
    "valor_a\n",
    "valor_b\n",
    "valor_soma\n",
    "\n",
    "valor_a = int(input(\"Digite o valor de A: \"))\n",
    "valor_b = int(input(\"Digite o valor de B: \"))\n",
    "\n",
    "valor_soma = valor_a + valor_b\n",
    "\n",
    "print(\"O valor da soma de A e B é: \", valor_total)"
   ]
  },
  {
   "cell_type": "markdown",
   "id": "b9df6146",
   "metadata": {},
   "source": [
    "# Exercicio10\n",
    "### Crie um programa que receba dois valores do usuário e exiba a o resultado de sua subtração"
   ]
  },
  {
   "cell_type": "code",
   "execution_count": 50,
   "id": "ca35aa39",
   "metadata": {},
   "outputs": [
    {
     "name": "stdout",
     "output_type": "stream",
     "text": [
      "Digite o valor de A: 1\n",
      "Digite o valor de B: 1\n",
      "O valor da subtração de A e B é:  0\n"
     ]
    }
   ],
   "source": [
    "valor_a\n",
    "valor_b\n",
    "\n",
    "valor_a = int(input(\"Digite o valor de A: \"))\n",
    "valor_b = int(input(\"Digite o valor de B: \"))\n",
    "\n",
    "valor_sub = (valor_a - valor_b)\n",
    "\n",
    "print(\"O valor da subtração de A e B é: \", valor_sub)"
   ]
  },
  {
   "cell_type": "markdown",
   "id": "063bf0bb",
   "metadata": {},
   "source": [
    "# Exercicio 11\n",
    "### Crie um programa que receba dois valores do usuário e exiba a o resultado de sua multiplicação"
   ]
  },
  {
   "cell_type": "code",
   "execution_count": 52,
   "id": "49c48a9c",
   "metadata": {},
   "outputs": [
    {
     "name": "stdout",
     "output_type": "stream",
     "text": [
      "Digite o valor de A: 1\n",
      "Digite o valor de B: 5\n",
      "O valor da multiplicação de A e B é:  5\n"
     ]
    }
   ],
   "source": [
    "valor_a\n",
    "valor_b\n",
    "valor_multi\n",
    "\n",
    "valor_a = int(input(\"Digite o valor de A: \"))\n",
    "valor_b = int(input(\"Digite o valor de B: \"))\n",
    "\n",
    "valor_multi = valor_a * valor_b\n",
    "\n",
    "print(\"O valor da multiplicação de A e B é: \", valor_multi)"
   ]
  },
  {
   "cell_type": "markdown",
   "id": "c487c23e",
   "metadata": {},
   "source": [
    "# Exercicio 12\n",
    "### Crie um programa que receba dois valores do usuário e exiba a o resultado de sua divisão"
   ]
  },
  {
   "cell_type": "code",
   "execution_count": 56,
   "id": "891ed5d8",
   "metadata": {},
   "outputs": [
    {
     "name": "stdout",
     "output_type": "stream",
     "text": [
      "Digite o valor de A: 5\n",
      "Digite o valor de B: 2\n",
      "O valor da divisão de A e B é:  2.5\n"
     ]
    }
   ],
   "source": [
    "valor_a\n",
    "valor_b\n",
    "valor_div = float\n",
    "\n",
    "valor_a = float(input(\"Digite o valor de A: \"))\n",
    "valor_b = float(input(\"Digite o valor de B: \"))\n",
    "\n",
    "valor_div = (valor_a / valor_b)\n",
    "\n",
    "print(\"O valor da divisão de A e B é: \", valor_div)"
   ]
  },
  {
   "cell_type": "markdown",
   "id": "de160187",
   "metadata": {},
   "source": [
    "# Exercicio 13\n",
    "### Crie um programa com uma ou duas variáveis atribuindo valores iniciais e exiba a o resultado de sua exponenciação"
   ]
  },
  {
   "cell_type": "code",
   "execution_count": 60,
   "id": "3a6ea850",
   "metadata": {},
   "outputs": [
    {
     "name": "stdout",
     "output_type": "stream",
     "text": [
      "O valor da exponenciação é:  9\n"
     ]
    }
   ],
   "source": [
    "valor_a = 3\n",
    "valor_b = 2\n",
    "\n",
    "valor_exp = valor_a ** valor_b\n",
    "\n",
    "print(\"O valor da exponenciação é: \", valor_exp)"
   ]
  },
  {
   "cell_type": "markdown",
   "id": "1a75ec76",
   "metadata": {},
   "source": [
    "# Exercicio 14\n",
    "### Crie um programa com uma ou duas variáveis atribuindo valores iniciais e exiba a o resultado do módulo entre eles"
   ]
  },
  {
   "cell_type": "code",
   "execution_count": 3,
   "id": "c4e43a17",
   "metadata": {},
   "outputs": [
    {
     "name": "stdout",
     "output_type": "stream",
     "text": [
      "O valor do módulo é:  1\n"
     ]
    }
   ],
   "source": [
    "valor_a = 10\n",
    "valor_b = 3\n",
    "\n",
    "valor_mod = valor_a % valor_b\n",
    "\n",
    "print(\"O valor do módulo é: \", valor_mod)"
   ]
  },
  {
   "cell_type": "markdown",
   "id": "445c6dfd",
   "metadata": {},
   "source": [
    "# Exercicio 15\n",
    "### Crie um programa para ler um valor (do teclado) e escrever (na tela) o seu antecessor"
   ]
  },
  {
   "cell_type": "code",
   "execution_count": 7,
   "id": "194d1bed",
   "metadata": {},
   "outputs": [
    {
     "name": "stdout",
     "output_type": "stream",
     "text": [
      "O valor antecessor é:  4\n"
     ]
    }
   ],
   "source": [
    "valor_a = 5\n",
    "valor_final = valor_a - 1\n",
    "\n",
    "print(\"O valor antecessor é: \", valor_final)"
   ]
  },
  {
   "cell_type": "markdown",
   "id": "0de24d9b",
   "metadata": {},
   "source": [
    "# Exercicio 16\n",
    "### Crie um programa para ler as dimensões de um retângulo (base e altura), calcular e escrever a área do retângulo"
   ]
  },
  {
   "cell_type": "code",
   "execution_count": 18,
   "id": "fee4976a",
   "metadata": {},
   "outputs": [
    {
     "name": "stdout",
     "output_type": "stream",
     "text": [
      "Digite o valor da base: 10\n",
      "Digite o valor da altura: 2\n",
      "A área é igual à:  20\n"
     ]
    }
   ],
   "source": [
    "valor_base\n",
    "valor_altura\n",
    "\n",
    "valor_base = int(input(\"Digite o valor da base: \"))\n",
    "valor_altura = int(input(\"Digite o valor da altura: \"))\n",
    "\n",
    "valor_area = valor_base * valor_altura\n",
    "\n",
    "print(\"A área é igual à: \", valor_area)"
   ]
  },
  {
   "cell_type": "markdown",
   "id": "149ea95a",
   "metadata": {},
   "source": [
    "# Exercicio 17\n",
    "### Crie um programa para ler a idade de uma pessoa expressa em anos, meses e dias e escreva a idade dessa pessoa expressa apenas em dia. Considerar ano com 365 dias e mês com 30 dias."
   ]
  },
  {
   "cell_type": "code",
   "execution_count": 29,
   "id": "8861eea0",
   "metadata": {},
   "outputs": [
    {
     "name": "stdout",
     "output_type": "stream",
     "text": [
      "Digite sua idade: 31\n",
      "Digite o mês de aniversário: 3\n",
      "Dias:  11405\n"
     ]
    }
   ],
   "source": [
    "idade = 0\n",
    "mes_aniver = 0\n",
    "total_dias = 0\n",
    "mes_para_dias = 0\n",
    "\n",
    "idade = int(input(\"Digite sua idade: \"))\n",
    "mes_aniver = int(input(\"Digite o mês de aniversário: \"))\n",
    "\n",
    "idade_para_dia = idade * 365\n",
    "mes_para_dias = mes_aniver * 30\n",
    "\n",
    "total_dias = idade_para_dia + mes_para_dias\n",
    "print(\"Dias: \", total_dias)\n"
   ]
  },
  {
   "cell_type": "markdown",
   "id": "2993ee18",
   "metadata": {},
   "source": [
    "# Exercicio 18\n",
    "### Crie um programa para ler o número total de eleitores de um município, o número de votos brancos, nulos e válidos. Calcular e escrever o percentual que cada um representa em relação ao total de eleitores."
   ]
  },
  {
   "cell_type": "code",
   "execution_count": 44,
   "id": "a409b76b",
   "metadata": {},
   "outputs": [
    {
     "name": "stdout",
     "output_type": "stream",
     "text": [
      "Número de votos validos: 500\n",
      "Número de votos em branco: 250\n",
      "Número de votos nulos: 250\n",
      "\n",
      "Votos válidos:  500 \n",
      "Votos em branco:  250 \n",
      "Votos nulos:  250 \n",
      "Eleitores:  1000 \n",
      "Votos validos:  50.0 % \n",
      "Votos em Branco 25.0 % \n",
      "Votos Nulo 25.0 %\n"
     ]
    }
   ],
   "source": [
    "votos_validos = 0\n",
    "votos_brancos = 0\n",
    "votos_nulos = 0\n",
    "\n",
    "votos_validos = int(input(\"Número de votos validos: \"))\n",
    "votos_brancos = int(input(\"Número de votos em branco: \"))\n",
    "votos_nulos = int(input(\"Número de votos nulos: \"))\n",
    "\n",
    "eleitores_total = votos_validos + votos_brancos + votos_nulos\n",
    "\n",
    "prct_validos = (votos_validos / eleitores_total) * 100\n",
    "prct_brancos = (votos_brancos / eleitores_total) * 100\n",
    "prct_nulos = (votos_nulos / eleitores_total) * 100\n",
    "\n",
    "print(\"\\nVotos válidos: \", votos_validos,\n",
    "      \"\\nVotos em branco: \", votos_brancos,\n",
    "      \"\\nVotos nulos: \", votos_nulos,\n",
    "      \"\\nEleitores: \", eleitores_total,\n",
    "      \"\\nVotos validos: \", prct_validos,\"%\",\n",
    "      \"\\nVotos em Branco\", prct_brancos,\"%\",\n",
    "      \"\\nVotos Nulo\", prct_nulos,\"%\")"
   ]
  },
  {
   "cell_type": "markdown",
   "id": "2b01f3e5",
   "metadata": {},
   "source": [
    "# Exercicio 19\n",
    "### Crie um programa para ler o salário mensal atual de um funcionário e o percentual de reajuste. Calcular e escrever o valor do novo salário"
   ]
  },
  {
   "cell_type": "code",
   "execution_count": 55,
   "id": "93b20a8b",
   "metadata": {},
   "outputs": [
    {
     "name": "stdout",
     "output_type": "stream",
     "text": [
      "Digite o seu sálario: 1000\n",
      "Digite o porcentual de reajuste: 10\n",
      "Você terá um acrescimento de  10 % no seu sálario. Totalizando:  1100.0 reais\n"
     ]
    }
   ],
   "source": [
    "valor_salario = int(input(\"Digite o seu sálario: \"))\n",
    "reajuste_salario = int(input(\"Digite o porcentual de reajuste: \"))\n",
    "\n",
    "novo_salario = valor_salario + ((valor_salario * reajuste_salario) / 100)\n",
    "                                \n",
    "print(\"Você terá um acrescimento de \", reajuste_salario, \"% no seu sálario. Totalizando: \", novo_salario, \"reais\")"
   ]
  },
  {
   "cell_type": "markdown",
   "id": "d364f04d",
   "metadata": {},
   "source": [
    "# Exercicio 20\n",
    "### Crie um programa para converter uma quantidade de dólar para real\n",
    "### • O usuário deve informar o valor em dólar;\n",
    "### • O programa deve converter esse valor em reais, exibindo a mensagem com o valor convertido;\n",
    "### • DÓLAR: 6.61 reais"
   ]
  },
  {
   "cell_type": "code",
   "execution_count": 56,
   "id": "bb79ca7d",
   "metadata": {},
   "outputs": [
    {
     "name": "stdout",
     "output_type": "stream",
     "text": [
      "Quantos Dólares você possui? 100\n",
      "Você possui  661.0 reais\n"
     ]
    }
   ],
   "source": [
    "qtd_dolar = float(input(\"Quantos Dólares você possui? \"))\n",
    "dolar = 6.61\n",
    "\n",
    "dolar_real = qtd_dolar * dolar\n",
    "\n",
    "print(\"Você possui \", dolar_real, \"reais\")"
   ]
  },
  {
   "cell_type": "markdown",
   "id": "f1a361c7",
   "metadata": {},
   "source": [
    "# Exercicio 21\n",
    "### O custo de um carro novo ao consumidor é a soma do custo de fábrica com a porcentagem do distribuidor e dos impostos (aplicados ao custo de fábrica). Supondo que o percentual do distribuidor seja de 28% e os impostos de 45%, crie uma programa para ler o custo de fábrica de um carro, calcular e escrever o custo final ao consumidor"
   ]
  },
  {
   "cell_type": "code",
   "execution_count": 80,
   "id": "f6a143ed",
   "metadata": {},
   "outputs": [
    {
     "name": "stdout",
     "output_type": "stream",
     "text": [
      "Valor de compra do carro: 50000\n",
      "Valor base de compra:  64225.0\n"
     ]
    }
   ],
   "source": [
    "valor_carro\n",
    "valor_total\n",
    "pct_distri = 0.28\n",
    "pct_imposto = 0.45 \n",
    "\n",
    "valor_carro = float(input(\"Valor de compra do carro: \"))\n",
    "\n",
    "valor_total = ((valor_carro + (pct_distri * valor_carro) + (pct_imposto * valor_carro) / 100))\n",
    "\n",
    "print(\"Valor base de compra: \", valor_total)"
   ]
  },
  {
   "cell_type": "markdown",
   "id": "8f19470a",
   "metadata": {},
   "source": [
    "# Exercicio 22\n",
    "### Uma revendedora de carros usados paga a seus funcionários vendedores um salário fixo por mês, mais uma comissão também fixa para cada carro vendido e mais 5%  do valor das vendas por ele efetuadas. Crie um programa que leia o número de carros por ele vendidos, o valor total  de suas vendas, o salário fixo e o valor que ele recebe por carro vendido. Calcule e escreva o salário final do vendedor."
   ]
  },
  {
   "cell_type": "code",
   "execution_count": 99,
   "id": "bf954f5e",
   "metadata": {
    "scrolled": true
   },
   "outputs": [
    {
     "name": "stdout",
     "output_type": "stream",
     "text": [
      "Quantos carros foram vendidos? \n",
      "\n",
      "Qual a soma de todas as vendas? \n",
      "\n",
      "Salário: \n"
     ]
    },
    {
     "ename": "TypeError",
     "evalue": "unsupported operand type(s) for *: 'NoneType' and 'int'",
     "output_type": "error",
     "traceback": [
      "\u001b[1;31m---------------------------------------------------------------------------\u001b[0m",
      "\u001b[1;31mTypeError\u001b[0m                                 Traceback (most recent call last)",
      "\u001b[1;32m~\\AppData\\Local\\Temp/ipykernel_4336/510428811.py\u001b[0m in \u001b[0;36m<module>\u001b[1;34m\u001b[0m\n\u001b[0;32m      9\u001b[0m \u001b[0msalario_fixo\u001b[0m \u001b[1;33m=\u001b[0m \u001b[0mprint\u001b[0m\u001b[1;33m(\u001b[0m\u001b[1;34m\"\\nSalário: \"\u001b[0m\u001b[1;33m)\u001b[0m\u001b[1;33m\u001b[0m\u001b[1;33m\u001b[0m\u001b[0m\n\u001b[0;32m     10\u001b[0m \u001b[1;33m\u001b[0m\u001b[0m\n\u001b[1;32m---> 11\u001b[1;33m \u001b[0msalario_final\u001b[0m \u001b[1;33m=\u001b[0m \u001b[1;33m(\u001b[0m\u001b[0msalario_fixo\u001b[0m \u001b[1;33m+\u001b[0m \u001b[1;33m(\u001b[0m\u001b[0mcarros_vendidos\u001b[0m \u001b[1;33m*\u001b[0m \u001b[0mbonus_venda\u001b[0m\u001b[1;33m)\u001b[0m \u001b[1;33m+\u001b[0m \u001b[1;33m(\u001b[0m\u001b[0mvalor_total_vendas\u001b[0m \u001b[1;33m*\u001b[0m \u001b[0mbonus_venda_prct\u001b[0m\u001b[1;33m)\u001b[0m\u001b[1;33m)\u001b[0m\u001b[1;33m\u001b[0m\u001b[1;33m\u001b[0m\u001b[0m\n\u001b[0m\u001b[0;32m     12\u001b[0m \u001b[1;33m\u001b[0m\u001b[0m\n\u001b[0;32m     13\u001b[0m \u001b[0mprint\u001b[0m\u001b[1;33m(\u001b[0m\u001b[1;34m\"O salário final é: \"\u001b[0m\u001b[1;33m,\u001b[0m \u001b[0msalario_final\u001b[0m\u001b[1;33m)\u001b[0m\u001b[1;33m\u001b[0m\u001b[1;33m\u001b[0m\u001b[0m\n",
      "\u001b[1;31mTypeError\u001b[0m: unsupported operand type(s) for *: 'NoneType' and 'int'"
     ]
    }
   ],
   "source": [
    "carros_vendidos\n",
    "valor_total_vendas\n",
    "salario_fixo\n",
    "bonus_venda = 200\n",
    "bonus_venda_prct = 0.5\n",
    "\n",
    "carros_vendidos = print(\"Quantos carros foram vendidos? \")\n",
    "valor_total_vendas = print(\"\\nQual a soma de todas as vendas? \")\n",
    "salario_fixo = print(\"\\nSalário: \")\n",
    "\n",
    "salario_final = (salario_fixo + (carros_vendidos * bonus_venda) + (valor_total_vendas * bonus_venda_prct))\n",
    "\n",
    "print(\"O salário final é: \", salario_final)"
   ]
  },
  {
   "cell_type": "code",
   "execution_count": null,
   "id": "077384fc",
   "metadata": {},
   "outputs": [],
   "source": []
  }
 ],
 "metadata": {
  "kernelspec": {
   "display_name": "Python 3 (ipykernel)",
   "language": "python",
   "name": "python3"
  },
  "language_info": {
   "codemirror_mode": {
    "name": "ipython",
    "version": 3
   },
   "file_extension": ".py",
   "mimetype": "text/x-python",
   "name": "python",
   "nbconvert_exporter": "python",
   "pygments_lexer": "ipython3",
   "version": "3.9.7"
  }
 },
 "nbformat": 4,
 "nbformat_minor": 5
}
