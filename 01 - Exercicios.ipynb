{
 "cells": [
  {
   "cell_type": "markdown",
   "id": "07d85cc4",
   "metadata": {},
   "source": [
    "## Exercícios\n",
    "\n",
    "\n",
    "- 1: Crie um programa para que apresente seu nome, seu celular e sua cidade.\n",
    "- 2: Crie um programa para que apresente sua idade, altura e peso.\n",
    "- 3: Crie um programa que contenha duas variáveis, um delas deve conter a matéria que você mais gosta e a outra uma frase sobre essa matéria. Apresente as duas frases juntas."
   ]
  },
  {
   "cell_type": "code",
   "execution_count": 17,
   "id": "3862ddc8",
   "metadata": {
    "scrolled": true
   },
   "outputs": [
    {
     "name": "stdout",
     "output_type": "stream",
     "text": [
      "Olá, meu nome é Rafael, meu contato é, 11 9 8046 6510, e moro na cidade de São Paulo\n"
     ]
    }
   ],
   "source": [
    "nome = \"Rafael\"\n",
    "celular = \"11 9 8046 6510\"\n",
    "cidade = \"São Paulo\"\n",
    "\n",
    "print(f\"Olá, meu nome é {nome}, meu contato é, {celular}, e moro na cidade de {cidade}\")"
   ]
  },
  {
   "cell_type": "code",
   "execution_count": 20,
   "id": "a192b7da",
   "metadata": {},
   "outputs": [
    {
     "name": "stdout",
     "output_type": "stream",
     "text": [
      "Olá, meu nome é Rafael, meu contato é, 11 9 8046 6510, e moro na cidade de São Paulo\n"
     ]
    }
   ],
   "source": [
    "nome = \"Rafael\"\n",
    "celular = \"11 9 8046 6510\"\n",
    "cidade = \"São Paulo\"\n",
    "\n",
    "print(\"Olá, meu nome é {}, meu contato é, {}, e moro na cidade de {}\".format(nome, celular, cidade))"
   ]
  },
  {
   "cell_type": "code",
   "execution_count": 21,
   "id": "4972851b",
   "metadata": {},
   "outputs": [
    {
     "name": "stdout",
     "output_type": "stream",
     "text": [
      "Tenho 31 anos de idade, tenho aproximadamente 1.87, e peso 83.\n"
     ]
    }
   ],
   "source": [
    "idade = 31\n",
    "altura = 1.87\n",
    "peso = 77\n",
    "\n",
    "print(f\"Tenho {idade} anos de idade, tenho aproximadamente {altura}, e peso {peso}.\")"
   ]
  },
  {
   "cell_type": "code",
   "execution_count": 22,
   "id": "5c715927",
   "metadata": {},
   "outputs": [
    {
     "name": "stdout",
     "output_type": "stream",
     "text": [
      "Adoro a matéria de Modelagem 3D, mas como muitas Tem de praticar\n"
     ]
    }
   ],
   "source": [
    "materia = \"Modelagem 3D\"\n",
    "frase = \"Tem de praticar\"\n",
    "\n",
    "print(f\"Adoro a matéria de {materia}, mas como muitas {frase}\")"
   ]
  }
 ],
 "metadata": {
  "kernelspec": {
   "display_name": "Python 3 (ipykernel)",
   "language": "python",
   "name": "python3"
  },
  "language_info": {
   "codemirror_mode": {
    "name": "ipython",
    "version": 3
   },
   "file_extension": ".py",
   "mimetype": "text/x-python",
   "name": "python",
   "nbconvert_exporter": "python",
   "pygments_lexer": "ipython3",
   "version": "3.9.7"
  }
 },
 "nbformat": 4,
 "nbformat_minor": 5
}
