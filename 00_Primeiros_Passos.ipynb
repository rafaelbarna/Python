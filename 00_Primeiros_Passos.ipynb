{
 "cells": [
  {
   "cell_type": "markdown",
   "id": "8507fe78",
   "metadata": {},
   "source": [
    "### Primeros passos com Python"
   ]
  },
  {
   "cell_type": "code",
   "execution_count": 21,
   "id": "d69d7836",
   "metadata": {},
   "outputs": [],
   "source": [
    "idade = \"31\"\n",
    "nome = \"Rafael\"\n",
    "profissao = \"Desenvolvedor\""
   ]
  },
  {
   "cell_type": "code",
   "execution_count": 35,
   "id": "d30e195f",
   "metadata": {
    "scrolled": true
   },
   "outputs": [
    {
     "name": "stdout",
     "output_type": "stream",
     "text": [
      "Olá meu nome é Rafael Tenho 31 anos de idade. E sou Desenvolvedor\n"
     ]
    }
   ],
   "source": [
    "print(\"Olá meu nome é\", nome, \"Tenho\", idade, \"anos de idade. E sou\", profissao)"
   ]
  },
  {
   "cell_type": "code",
   "execution_count": 31,
   "id": "2b776029",
   "metadata": {},
   "outputs": [
    {
     "name": "stdout",
     "output_type": "stream",
     "text": [
      "Olá, meu nome é Rafael, tenho 31 anos de idade e sou Desenvolvedor\n"
     ]
    }
   ],
   "source": [
    "print('Olá, meu nome é {}, tenho {} anos de idade e sou {}'.format(nome, idade, profissao))"
   ]
  },
  {
   "cell_type": "code",
   "execution_count": 30,
   "id": "e2478d03",
   "metadata": {},
   "outputs": [
    {
     "name": "stdout",
     "output_type": "stream",
     "text": [
      "Olá, meu nome é Rafael, tenho 31 anos de idade e sou Desenvolvedor\n"
     ]
    }
   ],
   "source": [
    "print(f'Olá, meu nome é {nome}, tenho {idade} anos de idade e sou {profissao}')"
   ]
  },
  {
   "cell_type": "code",
   "execution_count": null,
   "id": "987f260d",
   "metadata": {},
   "outputs": [],
   "source": []
  }
 ],
 "metadata": {
  "kernelspec": {
   "display_name": "Python 3 (ipykernel)",
   "language": "python",
   "name": "python3"
  },
  "language_info": {
   "codemirror_mode": {
    "name": "ipython",
    "version": 3
   },
   "file_extension": ".py",
   "mimetype": "text/x-python",
   "name": "python",
   "nbconvert_exporter": "python",
   "pygments_lexer": "ipython3",
   "version": "3.9.7"
  }
 },
 "nbformat": 4,
 "nbformat_minor": 5
}
