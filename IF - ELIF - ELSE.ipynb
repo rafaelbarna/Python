{
 "cells": [
  {
   "cell_type": "code",
   "execution_count": 4,
   "id": "ac13ee63",
   "metadata": {},
   "outputs": [
    {
     "ename": "SyntaxError",
     "evalue": "invalid syntax (Temp/ipykernel_14716/4070415474.py, line 6)",
     "output_type": "error",
     "traceback": [
      "\u001b[1;36m  File \u001b[1;32m\"C:\\Users\\rbarna\\AppData\\Local\\Temp/ipykernel_14716/4070415474.py\"\u001b[1;36m, line \u001b[1;32m6\u001b[0m\n\u001b[1;33m    notaQuatro = float(input(\"Digite a quarta nota:\"))resultadoFinal = (notaUm + notaDois + notaTres + notaQuatro) / 4\u001b[0m\n\u001b[1;37m                                                      ^\u001b[0m\n\u001b[1;31mSyntaxError\u001b[0m\u001b[1;31m:\u001b[0m invalid syntax\n"
     ]
    }
   ],
   "source": [
    "# Segunda forma\n",
    "# Pedir para que o usuário digite\n",
    "notaUm = float(input(\"Digite a primeira nota:\"))\n",
    "notaDois = float(input(\"Digite a segunda nota:\"))\n",
    "notaTres = float(input(\"Digite a terceira nota:\"))\n",
    "notaQuatro = float(input(\"Digite a quarta nota:\"))resultadoFinal = (notaUm + notaDois + notaTres + notaQuatro) / 4\n",
    "print(\"O aluno teve média final de: {:.2f}\".format(resultadoFinal))"
   ]
  },
  {
   "cell_type": "code",
   "execution_count": 5,
   "id": "79676599",
   "metadata": {},
   "outputs": [
    {
     "ename": "NameError",
     "evalue": "name 'resultadoFinal' is not defined",
     "output_type": "error",
     "traceback": [
      "\u001b[1;31m---------------------------------------------------------------------------\u001b[0m",
      "\u001b[1;31mNameError\u001b[0m                                 Traceback (most recent call last)",
      "\u001b[1;32m~\\AppData\\Local\\Temp/ipykernel_14716/1812911582.py\u001b[0m in \u001b[0;36m<module>\u001b[1;34m\u001b[0m\n\u001b[1;32m----> 1\u001b[1;33m \u001b[1;32mif\u001b[0m \u001b[1;33m(\u001b[0m\u001b[0mresultadoFinal\u001b[0m \u001b[1;33m>=\u001b[0m \u001b[1;36m7\u001b[0m\u001b[1;33m)\u001b[0m\u001b[1;33m:\u001b[0m\u001b[1;33m\u001b[0m\u001b[1;33m\u001b[0m\u001b[0m\n\u001b[0m\u001b[0;32m      2\u001b[0m     {\n\u001b[0;32m      3\u001b[0m         \u001b[0mprint\u001b[0m\u001b[1;33m(\u001b[0m\u001b[1;34m\"Aprovador!\"\u001b[0m\u001b[1;33m)\u001b[0m\u001b[1;33m\u001b[0m\u001b[1;33m\u001b[0m\u001b[0m\n\u001b[0;32m      4\u001b[0m     }\n\u001b[0;32m      5\u001b[0m \u001b[1;32melif\u001b[0m \u001b[1;33m(\u001b[0m\u001b[0mresultadoFinal\u001b[0m \u001b[1;33m<\u001b[0m \u001b[1;36m7\u001b[0m \u001b[1;32mand\u001b[0m \u001b[0mresultadoFinal\u001b[0m \u001b[1;33m>\u001b[0m \u001b[1;36m4\u001b[0m\u001b[1;33m)\u001b[0m\u001b[1;33m:\u001b[0m\u001b[1;33m\u001b[0m\u001b[1;33m\u001b[0m\u001b[0m\n",
      "\u001b[1;31mNameError\u001b[0m: name 'resultadoFinal' is not defined"
     ]
    }
   ],
   "source": [
    "if (resultadoFinal >= 7):\n",
    "    {\n",
    "        print(\"Aprovador!\")\n",
    "    }\n",
    "elif (resultadoFinal < 7 and resultadoFinal > 4):\n",
    "    {\n",
    "        print(\"Aluno de recuperação\")\n",
    "    }\n",
    "    \n",
    "else:\n",
    "    print(\"Reprovado!\")"
   ]
  },
  {
   "cell_type": "markdown",
   "id": "1596d0ea",
   "metadata": {},
   "source": [
    "- Crie um algoritmo que receba dois números digitados pelo usuário. Você deve comparar esses valores e indicar qual é o maior!"
   ]
  },
  {
   "cell_type": "code",
   "execution_count": 20,
   "id": "0ed01046",
   "metadata": {},
   "outputs": [
    {
     "name": "stdout",
     "output_type": "stream",
     "text": [
      "Digite um numero: 3\n",
      "Digite um segundo: 4\n",
      "\n",
      "O valor de B é maior que A.\n",
      "A = 3.0\n",
      "B = 4.0\n"
     ]
    }
   ],
   "source": [
    "a = 0\n",
    "b = 0\n",
    "\n",
    "a = float(input(\"Digite um numero: \"))\n",
    "b = float(input(\"Digite um segundo: \"))\n",
    "\n",
    "if a > b:\n",
    "    print (\"\\nO valor de A é maior que B.\\nA = {}\\nB = {}\".format(a, b))\n",
    "\n",
    "elif b > a:\n",
    "    print (\"\\nO valor de B é maior que A.\\nA = {}\\nB = {}\".format(a, b))\n",
    "    \n",
    "else:\n",
    "    print (\"\\nO valor de A é igual ao de B\")"
   ]
  },
  {
   "cell_type": "markdown",
   "id": "f4994b4a",
   "metadata": {},
   "source": [
    "###  Crie um sistema para validar os dados digitados pelo usuário. Os dados devem ser comparados com dados pré-armazenados no começo do algoritmo.\n",
    "\n",
    "#### Mensagens\n",
    "- Login realizado com sucesso!\n",
    "- Usuário ou Senha Inválidos!"
   ]
  },
  {
   "cell_type": "code",
   "execution_count": 23,
   "id": "6fe0a04f",
   "metadata": {},
   "outputs": [
    {
     "name": "stdout",
     "output_type": "stream",
     "text": [
      "Login: 4\n",
      "Senha: 4\n",
      "Usuário ou Senha inválidos...\n"
     ]
    }
   ],
   "source": [
    "login = \"rafael_foursys\"\n",
    "senha = \"9010\"\n",
    "\n",
    "loginDigitado = input(\"Login: \")\n",
    "senhaDigitado = input(\"Senha: \")\n",
    "\n",
    "if loginDigitado == login and senhaDigitado == senha:\n",
    "    print(\"\\nLogin realizado com sucesso!\")\n",
    "    \n",
    "else:\n",
    "    print(\"Usuário ou Senha inválidos...\")\n",
    "\n",
    "    \n"
   ]
  },
  {
   "cell_type": "code",
   "execution_count": null,
   "id": "31e64146",
   "metadata": {},
   "outputs": [],
   "source": []
  }
 ],
 "metadata": {
  "kernelspec": {
   "display_name": "Python 3 (ipykernel)",
   "language": "python",
   "name": "python3"
  },
  "language_info": {
   "codemirror_mode": {
    "name": "ipython",
    "version": 3
   },
   "file_extension": ".py",
   "mimetype": "text/x-python",
   "name": "python",
   "nbconvert_exporter": "python",
   "pygments_lexer": "ipython3",
   "version": "3.9.7"
  }
 },
 "nbformat": 4,
 "nbformat_minor": 5
}
