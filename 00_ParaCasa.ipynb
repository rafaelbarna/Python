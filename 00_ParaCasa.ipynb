{
 "cells": [
  {
   "cell_type": "markdown",
   "id": "4ccded82",
   "metadata": {},
   "source": [
    "### 1 - Faça um algoritmo que faça a soma de 4 números e apresente o resultado"
   ]
  },
  {
   "cell_type": "code",
   "execution_count": 6,
   "id": "135bebb9",
   "metadata": {},
   "outputs": [
    {
     "name": "stdout",
     "output_type": "stream",
     "text": [
      "40\n",
      "/n\n",
      "10.5\n",
      "10.5\n",
      "<class 'int'>\n",
      "<class 'int'>\n",
      "<class 'float'>\n",
      "<class 'int'>\n",
      "<class 'str'>\n"
     ]
    }
   ],
   "source": [
    "n1 = 5\n",
    "n2 = 10\n",
    "n3 = 5\n",
    "n4 = 20\n",
    "\n",
    "soma = (n1 + n2 + n3 + n4)\n",
    "\n",
    "print(soma)\n",
    "\n",
    "# outro modo #\n",
    "nome = \"rafael\"\n",
    "a, b, c, d = 1, 2, 3.5, 4\n",
    "somaDois = a + b + c + d\n",
    "\n",
    "print(somaDois)\n",
    "print(a + b + c + d)\n",
    "print(type(a))\n",
    "print(type(b))\n",
    "print(type(c))\n",
    "print(type(d))\n",
    "print(type(nome))"
   ]
  },
  {
   "cell_type": "markdown",
   "id": "18552a01",
   "metadata": {},
   "source": [
    "### 2 - Faça um algoritmo que recebe 3 valores e faça a multiplicação deles e apresente o resultado"
   ]
  },
  {
   "cell_type": "code",
   "execution_count": 2,
   "id": "bf226dcd",
   "metadata": {},
   "outputs": [
    {
     "name": "stdout",
     "output_type": "stream",
     "text": [
      "20\n"
     ]
    }
   ],
   "source": [
    "n1 = 10\n",
    "n2 = 2\n",
    "n3 = 1\n",
    "\n",
    "mult = (n1 * n2 * n3)\n",
    "\n",
    "print(mult)"
   ]
  },
  {
   "cell_type": "markdown",
   "id": "fa7e9620",
   "metadata": {},
   "source": [
    "### 3 - Dados os valores, a = 3, b = 5, c = 6, faça a soma, subtração, divisão e multiplicação entre eles. "
   ]
  },
  {
   "cell_type": "code",
   "execution_count": 10,
   "id": "cc5d902f",
   "metadata": {},
   "outputs": [
    {
     "name": "stdout",
     "output_type": "stream",
     "text": [
      "14 -8 0.09999999999999999 90\n",
      "Soma: 14, Subtração: -8, Divisão: 0.10, Multiplicação: 90\n"
     ]
    }
   ],
   "source": [
    "a = 3\n",
    "b = 5\n",
    "c = 6\n",
    "\n",
    "soma = (a + b + c)\n",
    "sub = (a - b - c)\n",
    "div = (a / b / c)\n",
    "mult = (a * b * c)\n",
    "\n",
    "print(soma, sub, div, mult)\n",
    "\n",
    "print(\"Soma: {}, Subtração: {}, Divisão: {:.2f}, Multiplicação: {}\".format(soma, sub, div, mult))"
   ]
  },
  {
   "cell_type": "markdown",
   "id": "8c873d50",
   "metadata": {},
   "source": [
    "### 4 - Imagine que o sistema da empresa aonde trabalha armazene as seguintes informações: nome, idade, data de nascimento, sexo, telefone residencial, telefone celular, email, endereço, cep, estado, cidade e bairro, classifique as variáveis entre seus respectivos tipos!"
   ]
  },
  {
   "cell_type": "code",
   "execution_count": null,
   "id": "99a84b70",
   "metadata": {},
   "outputs": [],
   "source": [
    "nome = str(\"Rafael\")\n",
    "idade = int(31)\n",
    "dataNascimento = int(6)\n",
    "mesNascimento = int(3)\n",
    "anoNascimento = int(1990)\n",
    "sexo = str(\"NB\")\n",
    "telefoneRes = int(11980466510)\n",
    "telefoneCel = int(11980466510)\n",
    "email = str(\"rafael.barna@foursys.com.br\")\n",
    "endereco = str(\"Praça Carlos Gomes, 67\")\n",
    "cep = int(01501040)\n",
    "estado = str(\"São Paulo\")\n",
    "cidade = str(\"Sâo Paulo\")\n",
    "bairro = str(\"Liberdade\")\n",
    "\n",
    "##\n",
    "\n",
    "string: nome, data de nascimento, sexo, telefone, endereco, estado, cidade, bairro\n",
    "int: idade, telefones, cep\n",
    "float: cep\n",
    "date: data de nascimento\n",
    "char:"
   ]
  },
  {
   "cell_type": "markdown",
   "id": "07a0791e",
   "metadata": {},
   "source": [
    "### 5 - Pensando nas boas práticas já conversadas nas aulas, o que nunca devemos fazer ao declarar uma variável? "
   ]
  },
  {
   "cell_type": "markdown",
   "id": "8c009b10",
   "metadata": {},
   "source": [
    "Caracteres espaciais, utilizar espaços, palavras reservadas, primeira letra maiuscula, começar com numero, nome sem sentido, "
   ]
  },
  {
   "cell_type": "markdown",
   "id": "f9b027f1",
   "metadata": {},
   "source": [
    "Boas praticas: Definir o tipo de dado corretamente, utilizar CamelCase, utilizar o underline para separar palavras \"camel_case\", "
   ]
  },
  {
   "cell_type": "markdown",
   "id": "4c0ecf81",
   "metadata": {},
   "source": [
    "### 6 - No Python, como identificamos um bloco de comandos? Pelo uso da virgula? Uso de chaves? Ou Identação de código?"
   ]
  },
  {
   "cell_type": "code",
   "execution_count": null,
   "id": "c37ecd68",
   "metadata": {},
   "outputs": [],
   "source": [
    "Identação do código"
   ]
  }
 ],
 "metadata": {
  "kernelspec": {
   "display_name": "Python 3 (ipykernel)",
   "language": "python",
   "name": "python3"
  },
  "language_info": {
   "codemirror_mode": {
    "name": "ipython",
    "version": 3
   },
   "file_extension": ".py",
   "mimetype": "text/x-python",
   "name": "python",
   "nbconvert_exporter": "python",
   "pygments_lexer": "ipython3",
   "version": "3.9.7"
  }
 },
 "nbformat": 4,
 "nbformat_minor": 5
}
